{
  "nbformat": 4,
  "nbformat_minor": 0,
  "metadata": {
    "colab": {
      "provenance": []
    },
    "kernelspec": {
      "name": "python3",
      "display_name": "Python 3"
    },
    "language_info": {
      "name": "python"
    }
  },
  "cells": [
    {
      "cell_type": "markdown",
      "source": [
        "#1. LeetCode 225.Implement Stack using Queues"
      ],
      "metadata": {
        "id": "cdzZNLwhzowl"
      }
    },
    {
      "cell_type": "code",
      "source": [
        "class MyStack:\n",
        "\n",
        "    def __init__(self):\n",
        "        self.q=deque()\n",
        "\n",
        "    def push(self, x: int) -> None:\n",
        "        self.q.append(x)\n",
        "\n",
        "    def pop(self) -> int:\n",
        "        for i in range(len(self.q)-1):\n",
        "            self.push(self.q.popleft())\n",
        "        return self.q.popleft()\n",
        "\n",
        "    def top(self) -> int:\n",
        "        return self.q[-1]\n",
        "\n",
        "    def empty(self) -> bool:\n",
        "        return len(self.q)==0"
      ],
      "metadata": {
        "id": "ZbgqewYC0CbY"
      },
      "execution_count": null,
      "outputs": []
    },
    {
      "cell_type": "markdown",
      "source": [
        "#2. Leetcode 232. Implement Queue using Stack"
      ],
      "metadata": {
        "id": "l_GbzgWDz3Up"
      }
    },
    {
      "cell_type": "code",
      "execution_count": null,
      "metadata": {
        "id": "tHZvLYi9zUBn"
      },
      "outputs": [],
      "source": [
        "class MyQueue:\n",
        "\n",
        "    def __init__(self):\n",
        "        self.s1=[]\n",
        "        self.s2=[]\n",
        "\n",
        "    def push(self,x: int)->None:\n",
        "        self.s1.append(x)\n",
        "\n",
        "\n",
        "    def pop(self)->int:\n",
        "        if not self.s2:\n",
        "            while self.s1:\n",
        "                self.s2.append(self.s1.pop())\n",
        "        return self.s2.pop()\n",
        "\n",
        "    def peek(self)-> int:\n",
        "        if not self.s2:\n",
        "            while self.s1:\n",
        "                self.s2.append(self.s1.pop())\n",
        "        return self.s2[-1]\n",
        "\n",
        "    def empty(self)->int:\n",
        "        return max(len(self.s1),len(self.s2))==0"
      ]
    },
    {
      "cell_type": "markdown",
      "source": [
        "#3. Chapter07.큐_연습문제"
      ],
      "metadata": {
        "id": "KAmVyB0x3IB3"
      }
    },
    {
      "cell_type": "code",
      "source": [
        "#1\n",
        "class ListQueue:\n",
        "  def__init__(self):\n",
        "    self.__queue=[]\n",
        "\n",
        "  def enqueue(self,x):\n",
        "    self.__queue.insert(0,x)\n",
        "\n",
        "  def front(self):\n",
        "    if self.__queue.is_empty():\n",
        "      return None\n",
        "    else:\n",
        "      return self.__queue[len(self.__queue)-1]\n",
        "\n",
        "  def is_empty(self)->bool:\n",
        "    return not bool(self.__queue)\n",
        "\n",
        "  def dequeue_all(self):\n",
        "    self.__queue.clear()"
      ],
      "metadata": {
        "id": "uHHIU2D_36DW"
      },
      "execution_count": null,
      "outputs": []
    },
    {
      "cell_type": "code",
      "source": [
        "#2\n",
        "def is_in_set(string: String)->bool:\n",
        "  q=ListQueue()\n",
        "  index=0\n",
        "  while string[index]!='$':\n",
        "    q.enqueue(string[index])\n",
        "    index+=1\n",
        "  index+=1\n",
        "  while index<len(string):\n",
        "    if q.dequeue()!=string[index]:\n",
        "      return False\n",
        "    else:\n",
        "      index+=1\n",
        "  return True"
      ],
      "metadata": {
        "id": "_bDq1CwV7Kk1"
      },
      "execution_count": null,
      "outputs": []
    },
    {
      "cell_type": "code",
      "source": [
        "#3\n",
        "def copy_linked_queue(a:LinkedQueue, b:LinkedQueue):\n",
        "  b.dequeue_all()\n",
        "  temp_queue=LinkedQueue()\n",
        "  while not a.is_empty():\n",
        "    temp_queue.enqueue(a.dequeue())\n",
        "  while not temp_queue.is_empty():\n",
        "    a.enqueue(temp_queue.front())\n",
        "    b.enqueue(temp_queue.dequeue())"
      ],
      "metadata": {
        "id": "0D2_4s4X7vJ7"
      },
      "execution_count": null,
      "outputs": []
    },
    {
      "cell_type": "code",
      "source": [
        "#4\n",
        "def push(q1: LinkedQueue,q2:LinkedQueue,x):\n",
        "  q2.dequeue_all()\n",
        "  while not q1.is_empty():\n",
        "    q2.enqueue(q1.dequeue())\n",
        "  q1.enqueue(x)\n",
        "  while not q2.is_empty():\n",
        "    q1.enqueue(q2.dequeue())\n",
        "\n",
        "def pop(q1: LinkedQueue,q2:LinkedQueue):\n",
        "  q2.dequeue_all()\n",
        "  count=0\n",
        "  while not q1.is_empty():\n",
        "    q2.enqueue(q1.dequeue())\n",
        "    count+=1\n",
        "    while _ in range(count-1):\n",
        "      q1.enqueue(q2.dequeue())\n",
        "    return q2.dequeue()"
      ],
      "metadata": {
        "id": "5bHXF3pl9IxG"
      },
      "execution_count": null,
      "outputs": []
    },
    {
      "cell_type": "code",
      "source": [
        "#5\n",
        "def enqueue(s1: LinkedStack, s2: LinkedStack, x):\n",
        "  s2.pop_all()\n",
        "  while not s1.is_empty():\n",
        "    s2.push(s1.pop())\n",
        "  s1.push(x)\n",
        "  while not s2.is_empty():\n",
        "    s1.push(s2.pop())\n",
        "\n",
        "def dequeue(s1: LinkedStack, s2: LinkedStack):\n",
        "  s2.pop_all()\n",
        "  while not s1.is_empty():\n",
        "    s2.push(s1.pop())\n",
        "  ret_x=s2.pop()\n",
        "  while not s2.is_empty():\n",
        "    s1.push(s2.pop())\n",
        "  return ret_x"
      ],
      "metadata": {
        "id": "Vi-zzFYZ-kwj"
      },
      "execution_count": null,
      "outputs": []
    },
    {
      "cell_type": "markdown",
      "source": [
        "##6\n",
        "구현하고자 하는 deque는 단방향원형리스트를 기반으로 한다. 또한, 이 deque의 front는 리스트의 맨 앞이며 tail은 리스트의 맨 끝으로 한다. enqueue()의 수행시간은 deque의 front에서 수행 할 시에  Θ(1), deque의 tail에서 수행할 시, Θ(1)이다. 따라서 수행 위치에 관계 없이 enqueue()의 수행시간은  Θ(1)이다.\n",
        "dequeue()의 수행시간은 deque의 front에서 수행할 시  Θ(1),deque의 tail에서 수행할 시  Θ(1)이다. 따라서 수행 위치에 상관없이 dequeue()의 수행시간은  Θ(1)이다."
      ],
      "metadata": {
        "id": "SD8UVWgC_eQ3"
      }
    },
    {
      "cell_type": "markdown",
      "source": [
        "##7\n",
        "구현하고자 하는 deque는 단방향리스트를 기반으로 한다.\n",
        "또한, 이 deque의 front는 리스트의 맨 앞이며 tail은 리스트의 맨 끝으로 한다. enqueue()의 수행 시간은 deque의 front에서 수행할 시,  Θ(1)이고 deque의 tail에서 수행할 시  Θ(n)이다. 따라서 enqueue()의 수행 시간은 최악의 경우를 고려해  Θ(n)이다."
      ],
      "metadata": {
        "id": "34Jfm-DQAMJI"
      }
    },
    {
      "cell_type": "code",
      "source": [
        "#8\n",
        "class ListDeque:\n",
        "  def __init__(self):\n",
        "    self.__queue=[]\n",
        "\n",
        "  def enqueue(self,x):\n",
        "    self.__queue.append(x)\n",
        "\n",
        "  def dequeue(self):\n",
        "    return self.__.queue.pop(0)\n",
        "\n",
        "  def push(self,x):\n",
        "    self.__queue.inset(0,x)\n",
        "\n",
        "  def pop(self):\n",
        "    return self.__queue.pop(len(self.__queue)-1)\n",
        "\n",
        "  def front(self):\n",
        "    if self.is_empty():\n",
        "      return None\n",
        "    else:\n",
        "      return self.__queue[0]\n",
        "\n",
        "  def rear(self):\n",
        "    if self.is_empty():\n",
        "      return None\n",
        "    else:\n",
        "      return self.__queue[len(self.__queue)-1]\n",
        "\n",
        "  def is_empty(self):\n",
        "    return len(self.__queue)==0\n",
        "\n",
        "  def dequeue_all(self):\n",
        "    self.__queue.clear()\n",
        "\n",
        "  def print_dequeue(self):\n",
        "    print(\"Dequeue from front: \",end=' ')\n",
        "    for index in range(len(self.__queue)):\n",
        "      print(self.__queue[index],end=' ')\n",
        "    print()"
      ],
      "metadata": {
        "id": "8McJEwt5CHZG"
      },
      "execution_count": null,
      "outputs": []
    }
  ]
}
